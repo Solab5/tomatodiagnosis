{
 "cells": [
  {
   "cell_type": "markdown",
   "id": "c4d035a2-0f58-44c1-b477-2b41a12f6241",
   "metadata": {},
   "source": [
    "# Tomato Disease Diagnosis"
   ]
  },
  {
   "cell_type": "code",
   "execution_count": null,
   "id": "fc278314-228c-44db-a417-ea11ec044dcf",
   "metadata": {},
   "outputs": [],
   "source": [
    "from fastai.vision.all import *\n",
    "import params\n",
    "from fastcore.all import *\n",
    "import wandb"
   ]
  },
  {
   "cell_type": "code",
   "execution_count": null,
   "id": "7e7aa82f-345e-443a-9110-9e552320a28e",
   "metadata": {},
   "outputs": [],
   "source": [
    "Path.BASE_PATH = path = Path(\"/notebooks/tomatodiagnosis/data/\")"
   ]
  },
  {
   "cell_type": "code",
   "execution_count": null,
   "id": "fb7bd628-693e-4e3e-9bc2-52338e587f8f",
   "metadata": {},
   "outputs": [],
   "source": [
    "path.ls()"
   ]
  },
  {
   "cell_type": "markdown",
   "id": "4850d02a-e665-4bfc-a417-ebad705aea7e",
   "metadata": {
    "tags": []
   },
   "source": [
    "Here we define several functions to help us process the data and upload it as a Table to W&B."
   ]
  },
  {
   "cell_type": "code",
   "execution_count": null,
   "id": "4913a1cd-185e-4882-ac55-973531b7e39d",
   "metadata": {},
   "outputs": [],
   "source": [
    "def label_func(fname):\n",
    "    return (fname.parent.name)\n",
    "\n",
    "def _create_table(image_files, class_labels):\n",
    "    \"Create a table with the dataset\"\n",
    "    labels = [str(class_labels[_lab]) for _lab in list(class_labels)]\n",
    "    table = wandb.Table(columns=[\"File_Name\", \"Images\", \"Split\", \"Label\", \"Dataset\"])\n",
    "    \n",
    "    for i, image_file in progress_bar(enumerate(image_files), total=len(image_files)):\n",
    "        image = Image.open(image_file)\n",
    "        label = label_func(image_file) \n",
    "        table.add_data(\n",
    "            str(image_file.parent.name) + '/' + image_file.name, \n",
    "            wandb.Image(image),\n",
    "            \"None\",\n",
    "            label,\n",
    "            \"Tomato\"\n",
    "        )    \n",
    "    return table"
   ]
  },
  {
   "cell_type": "code",
   "execution_count": null,
   "id": "8bba4df1-5462-441d-9390-bdbdb2ffc139",
   "metadata": {},
   "outputs": [],
   "source": [
    "run = wandb.init(project=params.WANDB_PROJECT, job_type=\"upload\")\n",
    "raw_data_at = wandb.Artifact(params.RAW_DATA_AT, type=\"raw_data\")"
   ]
  },
  {
   "cell_type": "markdown",
   "id": "1c3d449c-2334-42c5-8f5d-08621c3b66aa",
   "metadata": {},
   "source": [
    "Let's add the images"
   ]
  },
  {
   "cell_type": "code",
   "execution_count": null,
   "id": "7eef17ef-b22c-4ac7-8c6d-a968decf9118",
   "metadata": {},
   "outputs": [],
   "source": [
    "raw_data_at.add_dir(path/'Tomato_Yellow_Leaf_Curl_Virus', name='Tomato_Yellow_Leaf_Curl_Virus')\n",
    "raw_data_at.add_dir(path/'healthy', name='healthy')\n",
    "raw_data_at.add_dir(path/'Late_blight', name='Late_blight')\n",
    "raw_data_at.add_dir(path/'Septoria_leaf_spot', name='Septoria_leaf_spot')\n",
    "raw_data_at.add_dir(path/'Leaf_Mold', name='Leaf_Mold')\n",
    "raw_data_at.add_dir(path/'Spider_mites', name='Spider_mites')\n",
    "raw_data_at.add_dir(path/'Tomato_mosaic_virus', name='Tomato_mosaic_virus')\n",
    "raw_data_at.add_dir(path/'Early_blight', name='Early_blight')\n",
    "raw_data_at.add_dir(path/'Bacterial_spot', name='Bacterial_spot')\n",
    "raw_data_at.add_dir(path/'Target_Spot', name='Target_Spot')"
   ]
  },
  {
   "cell_type": "markdown",
   "id": "9fb9a434-a82e-427c-b5ae-7e23464f1a17",
   "metadata": {},
   "source": [
    "Let's get the file names of images in our dataset and use the function we defined above to create a W&B Table."
   ]
  },
  {
   "cell_type": "code",
   "execution_count": null,
   "id": "c31cc5ee-83cf-44af-8aaa-fd1424910609",
   "metadata": {},
   "outputs": [],
   "source": [
    "image_files = get_image_files(path)"
   ]
  },
  {
   "cell_type": "code",
   "execution_count": null,
   "id": "27e68d9c-e4e2-4040-9bf8-e0ff53647ecf",
   "metadata": {},
   "outputs": [],
   "source": [
    "table = _create_table(image_files, params.BDD_CLASSES)"
   ]
  },
  {
   "cell_type": "markdown",
   "id": "d7bb69f6-0185-489c-997f-170ca0bae07a",
   "metadata": {},
   "source": [
    "Finally, we will add the Table to our Artifact, log it to W&B and finish our run."
   ]
  },
  {
   "cell_type": "code",
   "execution_count": null,
   "id": "bf17482a-1fa4-4d49-b9bf-bb83f0f5b898",
   "metadata": {},
   "outputs": [],
   "source": [
    "raw_data_at.add(table, \"eda_table3\")"
   ]
  },
  {
   "cell_type": "code",
   "execution_count": null,
   "id": "70b13d95-d89e-46f5-830e-13ef35820db0",
   "metadata": {},
   "outputs": [],
   "source": [
    "run.log_artifact(raw_data_at)\n",
    "run.finish()"
   ]
  },
  {
   "cell_type": "code",
   "execution_count": null,
   "id": "a89b8ad9-3f68-46fc-b01f-db37f7d8d09a",
   "metadata": {},
   "outputs": [],
   "source": []
  }
 ],
 "metadata": {
  "kernelspec": {
   "display_name": "Python 3 (ipykernel)",
   "language": "python",
   "name": "python3"
  },
  "language_info": {
   "codemirror_mode": {
    "name": "ipython",
    "version": 3
   },
   "file_extension": ".py",
   "mimetype": "text/x-python",
   "name": "python",
   "nbconvert_exporter": "python",
   "pygments_lexer": "ipython3",
   "version": "3.9.13"
  }
 },
 "nbformat": 4,
 "nbformat_minor": 5
}
