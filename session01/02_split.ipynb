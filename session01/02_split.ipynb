{
 "cells": [
  {
   "cell_type": "code",
   "execution_count": null,
   "id": "3cf48317-4832-426c-94ff-394a5b7d985c",
   "metadata": {},
   "outputs": [],
   "source": [
    "import os, warnings\n",
    "import wandb\n",
    "\n",
    "import pandas as pd\n",
    "from fastai.vision.all import *\n",
    "from sklearn.model_selection import StratifiedKFold\n",
    "\n",
    "import params\n",
    "warnings.filterwarnings('ignore')"
   ]
  },
  {
   "cell_type": "code",
   "execution_count": null,
   "id": "045288da-a8d6-4bb0-8aba-8b95178f9334",
   "metadata": {},
   "outputs": [],
   "source": [
    "run = wandb.init(project=params.WANDB_PROJECT, job_type=\"data_split\")"
   ]
  },
  {
   "cell_type": "code",
   "execution_count": null,
   "id": "f62697f4-a64b-46f7-8b13-be6e7873b959",
   "metadata": {},
   "outputs": [],
   "source": [
    "raw_data_at = run.use_artifact(f'{params.RAW_DATA_AT}:latest')\n",
    "path = Path(raw_data_at.download())"
   ]
  },
  {
   "cell_type": "code",
   "execution_count": null,
   "id": "1f3dbab7-31f1-4749-8930-3b868b246d75",
   "metadata": {},
   "outputs": [],
   "source": [
    "path.ls()"
   ]
  },
  {
   "cell_type": "markdown",
   "id": "971878fb-9601-442c-b951-886cb20fe299",
   "metadata": {},
   "source": [
    "To split data between training, testing and validation, we need file names. We previously saved these columns to EDA table, so let's retrieve it from the table now."
   ]
  },
  {
   "cell_type": "code",
   "execution_count": null,
   "id": "a4ae1a7f-0ada-4abb-8916-c1156bbdc3b4",
   "metadata": {},
   "outputs": [],
   "source": [
    "fnames = get_image_files(path)"
   ]
  },
  {
   "cell_type": "code",
   "execution_count": null,
   "id": "cd7d9e88-57fb-469f-90c3-d8b0b5098a34",
   "metadata": {},
   "outputs": [],
   "source": [
    "# Filter out images from unwanted_folder\n",
    "fnames = list(filter(lambda x: \"media\" not in str(x), fnames))"
   ]
  },
  {
   "cell_type": "code",
   "execution_count": null,
   "id": "2b30503a-f88b-461a-936a-ae4597b750b6",
   "metadata": {},
   "outputs": [],
   "source": [
    "len(fnames)"
   ]
  },
  {
   "cell_type": "code",
   "execution_count": null,
   "id": "50d65c00-71e4-4c8b-8e8c-f4849f616d72",
   "metadata": {},
   "outputs": [],
   "source": [
    "orig_eda_table = raw_data_at.get(\"eda_table3\")"
   ]
  },
  {
   "cell_type": "code",
   "execution_count": null,
   "id": "0320b90a-6db9-41c7-8af4-e4fa20e9c558",
   "metadata": {},
   "outputs": [],
   "source": [
    "# Get a list of all subfolders (which will be the labels)\n",
    "labels = params.BDD_CLASSES\n",
    "labels"
   ]
  },
  {
   "cell_type": "code",
   "execution_count": null,
   "id": "51e6fc68-2342-4136-abab-759905262e32",
   "metadata": {},
   "outputs": [],
   "source": [
    "# Convert the list of file paths to a pandas DataFrame with the appropriate columns\n",
    "df = pd.DataFrame({'File_Name': [str(f.relative_to(f.parent.parent)) for f in fnames]})\n",
    "df['Label'] = df['File_Name'].apply(lambda x: str(x).split('/')[0])\n",
    "\n",
    "num_duplicates = len(df) - len(df['File_Name'].unique())\n",
    "if num_duplicates > 0:\n",
    "    print(f\"Warning: {num_duplicates} duplicate file names found in the DataFrame.\")\n",
    "\n",
    "# Print the value counts for each label\n",
    "print(df['Label'].value_counts())"
   ]
  },
  {
   "cell_type": "code",
   "execution_count": null,
   "id": "0ea5c43a-3766-44ee-9ae0-d04f6fe1a1ca",
   "metadata": {},
   "outputs": [],
   "source": [
    "# Reset the index of the DataFrame\n",
    "df = df.reset_index(drop=True)"
   ]
  },
  {
   "cell_type": "code",
   "execution_count": null,
   "id": "0a4c21ba-c980-4d4a-a70b-36e31d5ea43d",
   "metadata": {},
   "outputs": [],
   "source": [
    "cv = StratifiedKFold(n_splits=10, shuffle=True, random_state=42)\n",
    "\n",
    "for i, (train_idxs, test_idxs) in enumerate(cv.split(df['File_Name'], df['Label'], groups=None)):\n",
    "    df.loc[test_idxs, 'Fold'] = i\n",
    "\n",
    "df['Stage'] = 'train'\n",
    "df.loc[df.Fold == 0, 'Stage'] = 'test'\n",
    "df.loc[df.Fold == 1, 'Stage'] = 'valid'\n",
    "df.drop(columns=['Fold'], inplace=True)\n",
    "\n",
    "df.Stage.value_counts()"
   ]
  },
  {
   "cell_type": "code",
   "execution_count": null,
   "id": "88971e6a-a3aa-4b37-9c60-402c64ca97f5",
   "metadata": {},
   "outputs": [],
   "source": [
    "df.to_csv('data_split.csv', index=False)"
   ]
  },
  {
   "cell_type": "markdown",
   "id": "b9564131-52f9-4e0b-b6d5-e38609ecd966",
   "metadata": {},
   "source": [
    "We will now create a new artifact and add our data there."
   ]
  },
  {
   "cell_type": "code",
   "execution_count": null,
   "id": "ae9384ee-e16f-45c7-8a1c-e03642823555",
   "metadata": {},
   "outputs": [],
   "source": [
    "processed_data_at = wandb.Artifact('data_split', type=\"split_data\")"
   ]
  },
  {
   "cell_type": "code",
   "execution_count": null,
   "id": "3d2b6814-d382-4632-88da-a3ee4fa53a42",
   "metadata": {},
   "outputs": [],
   "source": [
    "processed_data_at.add_file('data_split.csv')\n",
    "processed_data_at.add_dir(path)"
   ]
  },
  {
   "cell_type": "markdown",
   "id": "a8f082cb-e06a-4ac5-af5c-b421476208f0",
   "metadata": {},
   "source": [
    "Finally, the split information may be relevant for our analyses - rather than uploading images again, we will save the split information to a new table and join it with EDA table we created previously."
   ]
  },
  {
   "cell_type": "code",
   "execution_count": null,
   "id": "5dcf9d7b-d50d-48d5-b03a-fe3a513130e7",
   "metadata": {},
   "outputs": [],
   "source": [
    "data_split_table = wandb.Table(dataframe=df[['File_Name', 'Stage']])"
   ]
  },
  {
   "cell_type": "code",
   "execution_count": null,
   "id": "537c7f26-5be0-4ec2-b5fa-925daaeb5727",
   "metadata": {},
   "outputs": [],
   "source": [
    "join_table = wandb.JoinedTable(orig_eda_table, data_split_table, \"File_Name\")"
   ]
  },
  {
   "cell_type": "markdown",
   "id": "23c6246c-51fa-4735-8d0b-0bfce8360af2",
   "metadata": {},
   "source": [
    "Let's add it to our artifact, log it and finish our run."
   ]
  },
  {
   "cell_type": "code",
   "execution_count": null,
   "id": "41d14f75-a838-437e-8916-9e8eedd89e38",
   "metadata": {},
   "outputs": [],
   "source": [
    "processed_data_at.add(join_table, \"eda_table_data_split\")"
   ]
  },
  {
   "cell_type": "code",
   "execution_count": null,
   "id": "c8d81da5-cf19-4136-9b3a-399e73c575cf",
   "metadata": {},
   "outputs": [],
   "source": [
    "run.log_artifact(processed_data_at)\n",
    "run.finish()"
   ]
  },
  {
   "cell_type": "code",
   "execution_count": null,
   "id": "7621b5b8-dafd-4b00-b924-d740a0b916ed",
   "metadata": {},
   "outputs": [],
   "source": []
  }
 ],
 "metadata": {
  "kernelspec": {
   "display_name": "Python 3 (ipykernel)",
   "language": "python",
   "name": "python3"
  },
  "language_info": {
   "codemirror_mode": {
    "name": "ipython",
    "version": 3
   },
   "file_extension": ".py",
   "mimetype": "text/x-python",
   "name": "python",
   "nbconvert_exporter": "python",
   "pygments_lexer": "ipython3",
   "version": "3.9.13"
  }
 },
 "nbformat": 4,
 "nbformat_minor": 5
}
