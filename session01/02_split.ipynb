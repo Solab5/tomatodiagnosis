{
 "cells": [
  {
   "cell_type": "code",
   "execution_count": 1,
   "id": "3cf48317-4832-426c-94ff-394a5b7d985c",
   "metadata": {},
   "outputs": [],
   "source": [
    "import os, warnings\n",
    "import wandb\n",
    "\n",
    "import pandas as pd\n",
    "from fastai.vision.all import *\n",
    "from sklearn.model_selection import StratifiedKFold\n",
    "\n",
    "import params\n",
    "warnings.filterwarnings('ignore')"
   ]
  },
  {
   "cell_type": "code",
   "execution_count": 2,
   "id": "045288da-a8d6-4bb0-8aba-8b95178f9334",
   "metadata": {},
   "outputs": [
    {
     "name": "stderr",
     "output_type": "stream",
     "text": [
      "\u001b[34m\u001b[1mwandb\u001b[0m: Currently logged in as: \u001b[33msolab5\u001b[0m. Use \u001b[1m`wandb login --relogin`\u001b[0m to force relogin\n"
     ]
    },
    {
     "data": {
      "text/html": [
       "wandb version 0.14.0 is available!  To upgrade, please run:\n",
       " $ pip install wandb --upgrade"
      ],
      "text/plain": [
       "<IPython.core.display.HTML object>"
      ]
     },
     "metadata": {},
     "output_type": "display_data"
    },
    {
     "data": {
      "text/html": [
       "Tracking run with wandb version 0.13.10"
      ],
      "text/plain": [
       "<IPython.core.display.HTML object>"
      ]
     },
     "metadata": {},
     "output_type": "display_data"
    },
    {
     "data": {
      "text/html": [
       "Run data is saved locally in <code>/notebooks/tomatodiagnosis/lab/notebooks/wandb/run-20230325_184520-ru2mlu12</code>"
      ],
      "text/plain": [
       "<IPython.core.display.HTML object>"
      ]
     },
     "metadata": {},
     "output_type": "display_data"
    },
    {
     "data": {
      "text/html": [
       "Syncing run <strong><a href='https://wandb.ai/solab5/TomatoDiseaseClassifier/runs/ru2mlu12' target=\"_blank\">misty-river-22</a></strong> to <a href='https://wandb.ai/solab5/TomatoDiseaseClassifier' target=\"_blank\">Weights & Biases</a> (<a href='https://wandb.me/run' target=\"_blank\">docs</a>)<br/>"
      ],
      "text/plain": [
       "<IPython.core.display.HTML object>"
      ]
     },
     "metadata": {},
     "output_type": "display_data"
    },
    {
     "data": {
      "text/html": [
       " View project at <a href='https://wandb.ai/solab5/TomatoDiseaseClassifier' target=\"_blank\">https://wandb.ai/solab5/TomatoDiseaseClassifier</a>"
      ],
      "text/plain": [
       "<IPython.core.display.HTML object>"
      ]
     },
     "metadata": {},
     "output_type": "display_data"
    },
    {
     "data": {
      "text/html": [
       " View run at <a href='https://wandb.ai/solab5/TomatoDiseaseClassifier/runs/ru2mlu12' target=\"_blank\">https://wandb.ai/solab5/TomatoDiseaseClassifier/runs/ru2mlu12</a>"
      ],
      "text/plain": [
       "<IPython.core.display.HTML object>"
      ]
     },
     "metadata": {},
     "output_type": "display_data"
    }
   ],
   "source": [
    "run = wandb.init(project=params.WANDB_PROJECT, job_type=\"data_split\")"
   ]
  },
  {
   "cell_type": "code",
   "execution_count": 3,
   "id": "f62697f4-a64b-46f7-8b13-be6e7873b959",
   "metadata": {},
   "outputs": [
    {
     "name": "stderr",
     "output_type": "stream",
     "text": [
      "\u001b[34m\u001b[1mwandb\u001b[0m: Downloading large artifact my_images:latest, 2268.98MB. 36307 files... \n",
      "\u001b[34m\u001b[1mwandb\u001b[0m:   36307 of 36307 files downloaded.  \n",
      "Done. 0:0:43.1\n"
     ]
    }
   ],
   "source": [
    "raw_data_at = run.use_artifact(f'{params.RAW_DATA_AT}:latest')\n",
    "path = Path(raw_data_at.download())"
   ]
  },
  {
   "cell_type": "code",
   "execution_count": 4,
   "id": "1f3dbab7-31f1-4749-8930-3b868b246d75",
   "metadata": {},
   "outputs": [
    {
     "data": {
      "text/plain": [
       "(#12) [Path('artifacts/my_images:v2/Tomato_Yellow_Leaf_Curl_Virus'),Path('artifacts/my_images:v2/healthy'),Path('artifacts/my_images:v2/Late_blight'),Path('artifacts/my_images:v2/Septoria_leaf_spot'),Path('artifacts/my_images:v2/Leaf_Mold'),Path('artifacts/my_images:v2/Spider_mites'),Path('artifacts/my_images:v2/Tomato_mosaic_virus'),Path('artifacts/my_images:v2/eda_table3.table.json'),Path('artifacts/my_images:v2/Early_blight'),Path('artifacts/my_images:v2/Bacterial_spot')...]"
      ]
     },
     "execution_count": 4,
     "metadata": {},
     "output_type": "execute_result"
    }
   ],
   "source": [
    "path.ls()"
   ]
  },
  {
   "cell_type": "markdown",
   "id": "971878fb-9601-442c-b951-886cb20fe299",
   "metadata": {},
   "source": [
    "To split data between training, testing and validation, we need file names. We previously saved these columns to EDA table, so let's retrieve it from the table now."
   ]
  },
  {
   "cell_type": "code",
   "execution_count": 5,
   "id": "a4ae1a7f-0ada-4abb-8916-c1156bbdc3b4",
   "metadata": {},
   "outputs": [],
   "source": [
    "fnames = get_image_files(path)"
   ]
  },
  {
   "cell_type": "code",
   "execution_count": 7,
   "id": "cd7d9e88-57fb-469f-90c3-d8b0b5098a34",
   "metadata": {},
   "outputs": [],
   "source": [
    "# Filter out images from unwanted_folder\n",
    "fnames = list(filter(lambda x: \"media\" not in str(x), fnames))"
   ]
  },
  {
   "cell_type": "code",
   "execution_count": 10,
   "id": "2b30503a-f88b-461a-936a-ae4597b750b6",
   "metadata": {},
   "outputs": [
    {
     "data": {
      "text/plain": [
       "18160"
      ]
     },
     "execution_count": 10,
     "metadata": {},
     "output_type": "execute_result"
    }
   ],
   "source": [
    "len(fnames)"
   ]
  },
  {
   "cell_type": "code",
   "execution_count": 11,
   "id": "50d65c00-71e4-4c8b-8e8c-f4849f616d72",
   "metadata": {},
   "outputs": [
    {
     "name": "stderr",
     "output_type": "stream",
     "text": [
      "\u001b[34m\u001b[1mwandb\u001b[0m: Downloading large artifact my_images:latest, 2268.98MB. 36307 files... \n",
      "\u001b[34m\u001b[1mwandb\u001b[0m:   36307 of 36307 files downloaded.  \n",
      "Done. 0:0:8.0\n"
     ]
    }
   ],
   "source": [
    "orig_eda_table = raw_data_at.get(\"eda_table3\")"
   ]
  },
  {
   "cell_type": "code",
   "execution_count": 12,
   "id": "0320b90a-6db9-41c7-8af4-e4fa20e9c558",
   "metadata": {},
   "outputs": [
    {
     "data": {
      "text/plain": [
       "{0: ['Bacterial_spot',\n",
       "  'Early_blight',\n",
       "  'Late_blight',\n",
       "  'Leaf_Mold',\n",
       "  'Septoria_leaf_spot',\n",
       "  'Spider_mites',\n",
       "  'Target_Spot',\n",
       "  'Tomato_Yellow_Leaf_Curl_Virus',\n",
       "  'Tomato_mosaic_virus',\n",
       "  'healthy']}"
      ]
     },
     "execution_count": 12,
     "metadata": {},
     "output_type": "execute_result"
    }
   ],
   "source": [
    "# Get a list of all subfolders (which will be the labels)\n",
    "labels = params.BDD_CLASSES\n",
    "labels"
   ]
  },
  {
   "cell_type": "code",
   "execution_count": 18,
   "id": "51e6fc68-2342-4136-abab-759905262e32",
   "metadata": {},
   "outputs": [
    {
     "name": "stdout",
     "output_type": "stream",
     "text": [
      "Tomato_Yellow_Leaf_Curl_Virus    5357\n",
      "Bacterial_spot                   2127\n",
      "Late_blight                      1909\n",
      "Septoria_leaf_spot               1771\n",
      "Spider_mites                     1676\n",
      "healthy                          1591\n",
      "Target_Spot                      1404\n",
      "Early_blight                     1000\n",
      "Leaf_Mold                         952\n",
      "Tomato_mosaic_virus               373\n",
      "Name: Label, dtype: int64\n"
     ]
    }
   ],
   "source": [
    "# Convert the list of file paths to a pandas DataFrame with the appropriate columns\n",
    "df = pd.DataFrame({'File_Name': [str(f.relative_to(f.parent.parent)) for f in fnames]})\n",
    "df['Label'] = df['File_Name'].apply(lambda x: str(x).split('/')[0])\n",
    "\n",
    "num_duplicates = len(df) - len(df['File_Name'].unique())\n",
    "if num_duplicates > 0:\n",
    "    print(f\"Warning: {num_duplicates} duplicate file names found in the DataFrame.\")\n",
    "\n",
    "# Print the value counts for each label\n",
    "print(df['Label'].value_counts())"
   ]
  },
  {
   "cell_type": "code",
   "execution_count": 21,
   "id": "0ea5c43a-3766-44ee-9ae0-d04f6fe1a1ca",
   "metadata": {},
   "outputs": [],
   "source": [
    "# Reset the index of the DataFrame\n",
    "df = df.reset_index(drop=True)"
   ]
  },
  {
   "cell_type": "code",
   "execution_count": 22,
   "id": "0a4c21ba-c980-4d4a-a70b-36e31d5ea43d",
   "metadata": {},
   "outputs": [
    {
     "data": {
      "text/plain": [
       "train    14528\n",
       "test      1816\n",
       "valid     1816\n",
       "Name: Stage, dtype: int64"
      ]
     },
     "execution_count": 22,
     "metadata": {},
     "output_type": "execute_result"
    }
   ],
   "source": [
    "cv = StratifiedKFold(n_splits=10, shuffle=True, random_state=42)\n",
    "\n",
    "for i, (train_idxs, test_idxs) in enumerate(cv.split(df['File_Name'], df['Label'], groups=None)):\n",
    "    df.loc[test_idxs, 'Fold'] = i\n",
    "\n",
    "df['Stage'] = 'train'\n",
    "df.loc[df.Fold == 0, 'Stage'] = 'test'\n",
    "df.loc[df.Fold == 1, 'Stage'] = 'valid'\n",
    "df.drop(columns=['Fold'], inplace=True)\n",
    "\n",
    "df.Stage.value_counts()"
   ]
  },
  {
   "cell_type": "code",
   "execution_count": 24,
   "id": "88971e6a-a3aa-4b37-9c60-402c64ca97f5",
   "metadata": {},
   "outputs": [],
   "source": [
    "df.to_csv('data_split.csv', index=False)"
   ]
  },
  {
   "cell_type": "markdown",
   "id": "b9564131-52f9-4e0b-b6d5-e38609ecd966",
   "metadata": {},
   "source": [
    "We will now create a new artifact and add our data there."
   ]
  },
  {
   "cell_type": "code",
   "execution_count": 25,
   "id": "ae9384ee-e16f-45c7-8a1c-e03642823555",
   "metadata": {},
   "outputs": [],
   "source": [
    "processed_data_at = wandb.Artifact('data_split', type=\"split_data\")"
   ]
  },
  {
   "cell_type": "code",
   "execution_count": 26,
   "id": "3d2b6814-d382-4632-88da-a3ee4fa53a42",
   "metadata": {},
   "outputs": [
    {
     "name": "stderr",
     "output_type": "stream",
     "text": [
      "\u001b[34m\u001b[1mwandb\u001b[0m: Adding directory to artifact (./artifacts/my_images:v2)... Done. 48.7s\n"
     ]
    }
   ],
   "source": [
    "processed_data_at.add_file('data_split.csv')\n",
    "processed_data_at.add_dir(path)"
   ]
  },
  {
   "cell_type": "markdown",
   "id": "a8f082cb-e06a-4ac5-af5c-b421476208f0",
   "metadata": {},
   "source": [
    "Finally, the split information may be relevant for our analyses - rather than uploading images again, we will save the split information to a new table and join it with EDA table we created previously."
   ]
  },
  {
   "cell_type": "code",
   "execution_count": 27,
   "id": "5dcf9d7b-d50d-48d5-b03a-fe3a513130e7",
   "metadata": {},
   "outputs": [],
   "source": [
    "data_split_table = wandb.Table(dataframe=df[['File_Name', 'Stage']])"
   ]
  },
  {
   "cell_type": "code",
   "execution_count": 28,
   "id": "537c7f26-5be0-4ec2-b5fa-925daaeb5727",
   "metadata": {},
   "outputs": [],
   "source": [
    "join_table = wandb.JoinedTable(orig_eda_table, data_split_table, \"File_Name\")"
   ]
  },
  {
   "cell_type": "markdown",
   "id": "23c6246c-51fa-4735-8d0b-0bfce8360af2",
   "metadata": {},
   "source": [
    "Let's add it to our artifact, log it and finish our run."
   ]
  },
  {
   "cell_type": "code",
   "execution_count": 29,
   "id": "41d14f75-a838-437e-8916-9e8eedd89e38",
   "metadata": {},
   "outputs": [
    {
     "data": {
      "text/plain": [
       "ArtifactManifestEntry(path='eda_table_data_split.joined-table.json', digest='+wvs9fM0Ux3IcToorzvzmA==', ref=None, birth_artifact_id=None, size=128, extra={}, local_path='/root/.local/share/wandb/artifacts/staging/tmp9xooq5ms')"
      ]
     },
     "execution_count": 29,
     "metadata": {},
     "output_type": "execute_result"
    }
   ],
   "source": [
    "processed_data_at.add(join_table, \"eda_table_data_split\")"
   ]
  },
  {
   "cell_type": "code",
   "execution_count": 30,
   "id": "c8d81da5-cf19-4136-9b3a-399e73c575cf",
   "metadata": {},
   "outputs": [
    {
     "data": {
      "text/html": [
       "Waiting for W&B process to finish... <strong style=\"color:green\">(success).</strong>"
      ],
      "text/plain": [
       "<IPython.core.display.HTML object>"
      ]
     },
     "metadata": {},
     "output_type": "display_data"
    },
    {
     "data": {
      "text/html": [
       " View run <strong style=\"color:#cdcd00\">misty-river-22</strong> at: <a href='https://wandb.ai/solab5/TomatoDiseaseClassifier/runs/ru2mlu12' target=\"_blank\">https://wandb.ai/solab5/TomatoDiseaseClassifier/runs/ru2mlu12</a><br/>Synced 5 W&B file(s), 0 media file(s), 36309 artifact file(s) and 0 other file(s)"
      ],
      "text/plain": [
       "<IPython.core.display.HTML object>"
      ]
     },
     "metadata": {},
     "output_type": "display_data"
    },
    {
     "data": {
      "text/html": [
       "Find logs at: <code>./wandb/run-20230325_184520-ru2mlu12/logs</code>"
      ],
      "text/plain": [
       "<IPython.core.display.HTML object>"
      ]
     },
     "metadata": {},
     "output_type": "display_data"
    }
   ],
   "source": [
    "run.log_artifact(processed_data_at)\n",
    "run.finish()"
   ]
  },
  {
   "cell_type": "code",
   "execution_count": null,
   "id": "7621b5b8-dafd-4b00-b924-d740a0b916ed",
   "metadata": {},
   "outputs": [],
   "source": []
  }
 ],
 "metadata": {
  "kernelspec": {
   "display_name": "Python 3 (ipykernel)",
   "language": "python",
   "name": "python3"
  },
  "language_info": {
   "codemirror_mode": {
    "name": "ipython",
    "version": 3
   },
   "file_extension": ".py",
   "mimetype": "text/x-python",
   "name": "python",
   "nbconvert_exporter": "python",
   "pygments_lexer": "ipython3",
   "version": "3.9.13"
  }
 },
 "nbformat": 4,
 "nbformat_minor": 5
}
