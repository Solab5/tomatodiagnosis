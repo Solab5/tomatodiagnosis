{
 "cells": [
  {
   "cell_type": "code",
   "execution_count": 1,
   "id": "fc278314-228c-44db-a417-ea11ec044dcf",
   "metadata": {},
   "outputs": [],
   "source": [
    "from fastai.vision.all import *"
   ]
  },
  {
   "cell_type": "code",
   "execution_count": 2,
   "id": "7e7aa82f-345e-443a-9110-9e552320a28e",
   "metadata": {},
   "outputs": [],
   "source": [
    "path = Path(\"/notebooks/tomatodiagnosis/test\")"
   ]
  },
  {
   "cell_type": "code",
   "execution_count": null,
   "id": "b77a5665-cdc2-48e1-ab05-db446f1c2de9",
   "metadata": {},
   "outputs": [],
   "source": [
    "path.ls()"
   ]
  },
  {
   "cell_type": "code",
   "execution_count": null,
   "id": "866fea0f-bcb8-42bb-9948-7048c9afef71",
   "metadata": {},
   "outputs": [],
   "source": [
    "trn_path = path/'Tomato_mosaic_virus'"
   ]
  },
  {
   "cell_type": "code",
   "execution_count": null,
   "id": "b795a2e6-f737-4007-8360-229abcc3d258",
   "metadata": {},
   "outputs": [],
   "source": []
  },
  {
   "cell_type": "code",
   "execution_count": null,
   "id": "d1ff59f2-6366-442d-90ea-18f9abf3be8e",
   "metadata": {},
   "outputs": [],
   "source": []
  },
  {
   "cell_type": "code",
   "execution_count": null,
   "id": "a3bc9c05-0104-407c-94dc-9a07adbf4b77",
   "metadata": {},
   "outputs": [],
   "source": []
  },
  {
   "cell_type": "code",
   "execution_count": null,
   "id": "3b531852-4063-4786-9afe-f6896e5eea34",
   "metadata": {},
   "outputs": [],
   "source": []
  },
  {
   "cell_type": "code",
   "execution_count": null,
   "id": "6c40a28e-baaa-4cb6-a1a8-0e9063b0ac8c",
   "metadata": {},
   "outputs": [],
   "source": []
  },
  {
   "cell_type": "code",
   "execution_count": 3,
   "id": "f749579b-8dd5-4b6d-9305-06b6467a85ca",
   "metadata": {},
   "outputs": [],
   "source": [
    "def train(arch, size, item=Resize(256, method='squish'), accum=1, finetune=True, epochs=10):\n",
    "    dls = ImageDataLoaders.from_folder(path, valid_pct=0.2, item_tfms=item,\n",
    "        batch_tfms=aug_transforms(size=size, min_scale=0.75), bs=64//accum)\n",
    "    cbs = GradientAccumulation(64) if accum else []\n",
    "    learn = vision_learner(dls, arch, metrics=error_rate, cbs=cbs).to_fp16()\n",
    "    if finetune:\n",
    "        learn.fine_tune(epochs, 0.01)\n",
    "    else:\n",
    "        learn.unfreeze()\n",
    "        learn.fit_one_cycle(epochs, 0.01)"
   ]
  },
  {
   "cell_type": "code",
   "execution_count": null,
   "id": "3b6f46d7-735b-4373-a44c-e28547291350",
   "metadata": {},
   "outputs": [],
   "source": [
    "train('convnext_small_in22k', 128, epochs=1, accum=1, finetune=False)"
   ]
  },
  {
   "cell_type": "code",
   "execution_count": null,
   "id": "4b20c6ca-8aab-4444-b5e7-ab78bf9425f2",
   "metadata": {},
   "outputs": [],
   "source": [
    "import gc\n",
    "def report_gpu():\n",
    "    print(torch.cuda.list_gpu_processes())\n",
    "    gc.collect()\n",
    "    torch.cuda.empty_cache()"
   ]
  },
  {
   "cell_type": "code",
   "execution_count": null,
   "id": "ac330794-730a-453c-bd27-3e54996699a9",
   "metadata": {},
   "outputs": [],
   "source": [
    "report_gpu()"
   ]
  },
  {
   "cell_type": "code",
   "execution_count": null,
   "id": "49bad496-037e-45c5-a8a4-f8573c7f1726",
   "metadata": {},
   "outputs": [],
   "source": [
    "train('convnext_small_in22k', 128, epochs=1, accum=2, finetune=False)\n",
    "report_gpu()"
   ]
  },
  {
   "cell_type": "code",
   "execution_count": null,
   "id": "adafa6d3-436a-4213-99c5-88470bbb284c",
   "metadata": {},
   "outputs": [],
   "source": [
    "train('convnext_small_in22k', 128, epochs=1, accum=4, finetune=False)\n",
    "report_gpu()"
   ]
  },
  {
   "cell_type": "markdown",
   "id": "6118c86f-805d-4585-a366-c5341bd8abed",
   "metadata": {},
   "source": [
    "## Larger models"
   ]
  },
  {
   "cell_type": "code",
   "execution_count": null,
   "id": "ac3dd082-bb2a-451e-bf55-1359694d97c3",
   "metadata": {},
   "outputs": [],
   "source": [
    "train('convnext_large_in22k', 128, epochs=1, accum=2, finetune=False)\n",
    "report_gpu()"
   ]
  },
  {
   "cell_type": "code",
   "execution_count": null,
   "id": "64e1f929-f288-45a4-a5da-414a45f7e5c3",
   "metadata": {},
   "outputs": [],
   "source": [
    "train('vit_large_patch16_224', 224, epochs=1, accum=4, finetune=False)\n",
    "report_gpu()"
   ]
  },
  {
   "cell_type": "code",
   "execution_count": null,
   "id": "da9ac104-c73d-4f83-9fd6-12d014e77f02",
   "metadata": {},
   "outputs": [],
   "source": [
    "train('swinv2_large_window12_192_22k', 192, epochs=1, accum=2, finetune=False)\n",
    "report_gpu()"
   ]
  },
  {
   "cell_type": "code",
   "execution_count": null,
   "id": "133ffc42-fab9-4a04-b967-51028eb333fb",
   "metadata": {},
   "outputs": [],
   "source": [
    "train('swin_large_patch4_window7_224', 224, epochs=1, accum=2, finetune=False)\n",
    "report_gpu()"
   ]
  },
  {
   "cell_type": "code",
   "execution_count": null,
   "id": "6a631667-0730-4339-ac4d-89f176fa8ab3",
   "metadata": {},
   "outputs": [],
   "source": [
    "train('swin_s3_base_224', 224, epochs=1, accum=2, finetune=False)\n",
    "report_gpu()"
   ]
  },
  {
   "cell_type": "markdown",
   "id": "272b6d78-afe5-49ca-b1db-9147cae2194e",
   "metadata": {},
   "source": [
    "## Training process"
   ]
  },
  {
   "cell_type": "markdown",
   "id": "3673d225-61df-43ab-82ca-e0071338d23f",
   "metadata": {},
   "source": [
    "## Trying out swin transformer model"
   ]
  },
  {
   "cell_type": "code",
   "execution_count": null,
   "id": "478c2874-40a5-4809-9d2d-df13fa25f653",
   "metadata": {},
   "outputs": [],
   "source": [
    "path"
   ]
  },
  {
   "cell_type": "code",
   "execution_count": null,
   "id": "96ed876d-ac7c-42f3-913c-c42c9f0f4bf0",
   "metadata": {},
   "outputs": [
    {
     "name": "stderr",
     "output_type": "stream",
     "text": [
      "/usr/local/lib/python3.9/dist-packages/torch/functional.py:478: UserWarning: torch.meshgrid: in an upcoming release, it will be required to pass the indexing argument. (Triggered internally at  ../aten/src/ATen/native/TensorShape.cpp:2894.)\n",
      "  return _VF.meshgrid(tensors, **kwargs)  # type: ignore[attr-defined]\n"
     ]
    },
    {
     "data": {
      "text/html": [
       "\n",
       "<style>\n",
       "    /* Turns off some styling */\n",
       "    progress {\n",
       "        /* gets rid of default border in Firefox and Opera. */\n",
       "        border: none;\n",
       "        /* Needs to be in here for Safari polyfill so background images work as expected. */\n",
       "        background-size: auto;\n",
       "    }\n",
       "    progress:not([value]), progress:not([value])::-webkit-progress-bar {\n",
       "        background: repeating-linear-gradient(45deg, #7e7e7e, #7e7e7e 10px, #5c5c5c 10px, #5c5c5c 20px);\n",
       "    }\n",
       "    .progress-bar-interrupted, .progress-bar-interrupted::-webkit-progress-bar {\n",
       "        background: #F44336;\n",
       "    }\n",
       "</style>\n"
      ],
      "text/plain": [
       "<IPython.core.display.HTML object>"
      ]
     },
     "metadata": {},
     "output_type": "display_data"
    },
    {
     "data": {
      "text/html": [
       "<table border=\"1\" class=\"dataframe\">\n",
       "  <thead>\n",
       "    <tr style=\"text-align: left;\">\n",
       "      <th>epoch</th>\n",
       "      <th>train_loss</th>\n",
       "      <th>valid_loss</th>\n",
       "      <th>error_rate</th>\n",
       "      <th>time</th>\n",
       "    </tr>\n",
       "  </thead>\n",
       "  <tbody>\n",
       "    <tr>\n",
       "      <td>0</td>\n",
       "      <td>0.330888</td>\n",
       "      <td>0.441469</td>\n",
       "      <td>0.111509</td>\n",
       "      <td>06:32</td>\n",
       "    </tr>\n",
       "  </tbody>\n",
       "</table>"
      ],
      "text/plain": [
       "<IPython.core.display.HTML object>"
      ]
     },
     "metadata": {},
     "output_type": "display_data"
    },
    {
     "data": {
      "text/html": [
       "\n",
       "<style>\n",
       "    /* Turns off some styling */\n",
       "    progress {\n",
       "        /* gets rid of default border in Firefox and Opera. */\n",
       "        border: none;\n",
       "        /* Needs to be in here for Safari polyfill so background images work as expected. */\n",
       "        background-size: auto;\n",
       "    }\n",
       "    progress:not([value]), progress:not([value])::-webkit-progress-bar {\n",
       "        background: repeating-linear-gradient(45deg, #7e7e7e, #7e7e7e 10px, #5c5c5c 10px, #5c5c5c 20px);\n",
       "    }\n",
       "    .progress-bar-interrupted, .progress-bar-interrupted::-webkit-progress-bar {\n",
       "        background: #F44336;\n",
       "    }\n",
       "</style>\n"
      ],
      "text/plain": [
       "<IPython.core.display.HTML object>"
      ]
     },
     "metadata": {},
     "output_type": "display_data"
    },
    {
     "data": {
      "text/html": [
       "\n",
       "    <div>\n",
       "      <progress value='9' class='' max='10' style='width:300px; height:20px; vertical-align: middle;'></progress>\n",
       "      90.00% [9/10 1:17:09&lt;08:34]\n",
       "    </div>\n",
       "    \n",
       "<table border=\"1\" class=\"dataframe\">\n",
       "  <thead>\n",
       "    <tr style=\"text-align: left;\">\n",
       "      <th>epoch</th>\n",
       "      <th>train_loss</th>\n",
       "      <th>valid_loss</th>\n",
       "      <th>error_rate</th>\n",
       "      <th>time</th>\n",
       "    </tr>\n",
       "  </thead>\n",
       "  <tbody>\n",
       "    <tr>\n",
       "      <td>0</td>\n",
       "      <td>0.115848</td>\n",
       "      <td>0.098238</td>\n",
       "      <td>0.031938</td>\n",
       "      <td>08:33</td>\n",
       "    </tr>\n",
       "    <tr>\n",
       "      <td>1</td>\n",
       "      <td>0.090191</td>\n",
       "      <td>0.042249</td>\n",
       "      <td>0.012665</td>\n",
       "      <td>08:33</td>\n",
       "    </tr>\n",
       "    <tr>\n",
       "      <td>2</td>\n",
       "      <td>0.095744</td>\n",
       "      <td>0.482325</td>\n",
       "      <td>0.088381</td>\n",
       "      <td>08:33</td>\n",
       "    </tr>\n",
       "    <tr>\n",
       "      <td>3</td>\n",
       "      <td>0.051221</td>\n",
       "      <td>0.040663</td>\n",
       "      <td>0.009912</td>\n",
       "      <td>08:33</td>\n",
       "    </tr>\n",
       "    <tr>\n",
       "      <td>4</td>\n",
       "      <td>0.059635</td>\n",
       "      <td>0.078413</td>\n",
       "      <td>0.017070</td>\n",
       "      <td>08:33</td>\n",
       "    </tr>\n",
       "    <tr>\n",
       "      <td>5</td>\n",
       "      <td>0.033369</td>\n",
       "      <td>0.036469</td>\n",
       "      <td>0.007985</td>\n",
       "      <td>08:36</td>\n",
       "    </tr>\n",
       "    <tr>\n",
       "      <td>6</td>\n",
       "      <td>0.020784</td>\n",
       "      <td>0.015684</td>\n",
       "      <td>0.003855</td>\n",
       "      <td>08:37</td>\n",
       "    </tr>\n",
       "    <tr>\n",
       "      <td>7</td>\n",
       "      <td>0.006657</td>\n",
       "      <td>0.015035</td>\n",
       "      <td>0.003304</td>\n",
       "      <td>08:33</td>\n",
       "    </tr>\n",
       "    <tr>\n",
       "      <td>8</td>\n",
       "      <td>0.006070</td>\n",
       "      <td>0.014865</td>\n",
       "      <td>0.003855</td>\n",
       "      <td>08:33</td>\n",
       "    </tr>\n",
       "  </tbody>\n",
       "</table><p>\n",
       "\n",
       "    <div>\n",
       "      <progress value='97' class='' max='454' style='width:300px; height:20px; vertical-align: middle;'></progress>\n",
       "      21.37% [97/454 01:41&lt;06:14 0.0035]\n",
       "    </div>\n",
       "    "
      ],
      "text/plain": [
       "<IPython.core.display.HTML object>"
      ]
     },
     "metadata": {},
     "output_type": "display_data"
    }
   ],
   "source": [
    "learn = train('swin_s3_base_224', 224, accum=2)"
   ]
  },
  {
   "cell_type": "code",
   "execution_count": null,
   "id": "8f38c572-437b-4fee-a804-1f311912a268",
   "metadata": {},
   "outputs": [],
   "source": [
    "learn.path = Path('.')"
   ]
  },
  {
   "cell_type": "code",
   "execution_count": null,
   "id": "1e2a5a97-d83e-4396-9688-42da37919100",
   "metadata": {},
   "outputs": [],
   "source": [
    "learn.model.export('02_tomato.pkl')"
   ]
  },
  {
   "cell_type": "code",
   "execution_count": null,
   "id": "f0d28b98-a8fb-41d9-be79-cfddfc9a052b",
   "metadata": {},
   "outputs": [],
   "source": []
  },
  {
   "cell_type": "code",
   "execution_count": null,
   "id": "4e355346-62d9-4168-bb7c-474c941655ca",
   "metadata": {},
   "outputs": [],
   "source": []
  },
  {
   "cell_type": "code",
   "execution_count": null,
   "id": "4904cb64-f41a-4ee9-aef5-ce77a99a9c55",
   "metadata": {},
   "outputs": [],
   "source": []
  },
  {
   "cell_type": "code",
   "execution_count": null,
   "id": "0d447023-3333-4384-ac4c-1d4866e51710",
   "metadata": {},
   "outputs": [],
   "source": [
    "models = {\n",
    "    'convnext_large_in22k': {\n",
    "        (Resize(256), (128)),\n",
    "    }, 'vit_large_patch16_224': {\n",
    "        (Resize(256, method='squish'), 224),\n",
    "        (Resize(256), 224),\n",
    "    }, 'swinv2_large_window12_192_22k': {\n",
    "        (Resize(256, method='squish'), 192),\n",
    "        (Resize(256), 192),\n",
    "    }, 'swin_large_patch4_window7_224': {\n",
    "        (Resize(256), 224),\n",
    "    }\n",
    "}"
   ]
  },
  {
   "cell_type": "code",
   "execution_count": null,
   "id": "9d8cbe98-c1e1-4234-bb1a-fecc9201a2f3",
   "metadata": {},
   "outputs": [],
   "source": [
    "models = {\n",
    "    'convnext_large_in22k': {\n",
    "        (Resize(256), (128)),\n",
    "    }, 'vit_large_patch16_224': {\n",
    "        (Resize(256, method='squish'), 224),\n",
    "        (Resize(256), 224),\n",
    "    }, 'swinv2_large_window12_192_22k': {\n",
    "        (Resize(256, method='squish'), 192),\n",
    "        (Resize(256), 192),\n",
    "    }, 'swin_large_patch4_window7_224': {\n",
    "        (Resize(256), 224),\n",
    "    }\n",
    "}"
   ]
  },
  {
   "cell_type": "code",
   "execution_count": null,
   "id": "0d11395e-87bc-4161-9564-a48484e4b221",
   "metadata": {},
   "outputs": [],
   "source": [
    "trn_path = path"
   ]
  },
  {
   "cell_type": "code",
   "execution_count": null,
   "id": "314f4c94-d68f-41d9-887a-442cdd746e13",
   "metadata": {},
   "outputs": [],
   "source": [
    "for arch,details in models.items():\n",
    "    for item,size in details:\n",
    "        print('---',arch)\n",
    "        print(size)\n",
    "        print(item.name)\n",
    "        train(arch, size, item=item, accum=4, epochs=5)\n",
    "        gc.collect()\n",
    "        torch.cuda.empty_cache()"
   ]
  },
  {
   "cell_type": "code",
   "execution_count": null,
   "id": "bae99d15-29e8-4586-ac4f-37c137f2e1ce",
   "metadata": {},
   "outputs": [],
   "source": []
  }
 ],
 "metadata": {
  "kernelspec": {
   "display_name": "Python 3 (ipykernel)",
   "language": "python",
   "name": "python3"
  },
  "language_info": {
   "codemirror_mode": {
    "name": "ipython",
    "version": 3
   },
   "file_extension": ".py",
   "mimetype": "text/x-python",
   "name": "python",
   "nbconvert_exporter": "python",
   "pygments_lexer": "ipython3",
   "version": "3.9.13"
  }
 },
 "nbformat": 4,
 "nbformat_minor": 5
}
