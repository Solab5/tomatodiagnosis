{
 "cells": [
  {
   "cell_type": "code",
   "execution_count": 2,
   "id": "084a41b0-dc81-4c35-b2b9-f0ecf60ff868",
   "metadata": {},
   "outputs": [],
   "source": [
    "import wandb\n",
    "import pandas as pd\n",
    "from fastai.vision.all import *\n",
    "from fastai.callback.wandb import WandbCallback\n",
    "import params"
   ]
  },
  {
   "cell_type": "markdown",
   "id": "348dca94-f7dc-4e89-8517-0cc6f3518e2c",
   "metadata": {},
   "source": [
    "Let's now create a train_config that we'll pass to W&B run to control training hyperparameters."
   ]
  },
  {
   "cell_type": "code",
   "execution_count": 3,
   "id": "bd11f603-a437-4ea9-b188-b675d42acef8",
   "metadata": {},
   "outputs": [],
   "source": [
    "train_config = SimpleNamespace(\n",
    "    framework=\"fastai\",\n",
    "    img_size=(224, 224),\n",
    "    batch_size=64,\n",
    "    augment=True, # use data augmentation\n",
    "    epochs=5, \n",
    "    lr=2e-3,\n",
    "    pretrained=True,  # whether to use pretrained encoder\n",
    "    seed=42,\n",
    ")"
   ]
  },
  {
   "cell_type": "markdown",
   "id": "10991a91-1236-4bef-a7b9-3856f3fa4a24",
   "metadata": {},
   "source": [
    "We set seed for reproducibility"
   ]
  },
  {
   "cell_type": "code",
   "execution_count": 4,
   "id": "b3ed2266-0e9f-436d-b1d7-d9d924159024",
   "metadata": {},
   "outputs": [],
   "source": [
    "set_seed(train_config.seed, reproducible=True)"
   ]
  },
  {
   "cell_type": "code",
   "execution_count": 28,
   "id": "b64ca12a-3b53-4ea4-809d-c9193dae2363",
   "metadata": {},
   "outputs": [
    {
     "data": {
      "text/html": [
       "wandb version 0.14.0 is available!  To upgrade, please run:\n",
       " $ pip install wandb --upgrade"
      ],
      "text/plain": [
       "<IPython.core.display.HTML object>"
      ]
     },
     "metadata": {},
     "output_type": "display_data"
    },
    {
     "data": {
      "text/html": [
       "Tracking run with wandb version 0.13.10"
      ],
      "text/plain": [
       "<IPython.core.display.HTML object>"
      ]
     },
     "metadata": {},
     "output_type": "display_data"
    },
    {
     "data": {
      "text/html": [
       "Run data is saved locally in <code>/notebooks/tomatodiagnosis/lab/notebooks/wandb/run-20230326_080643-vw8csyn8</code>"
      ],
      "text/plain": [
       "<IPython.core.display.HTML object>"
      ]
     },
     "metadata": {},
     "output_type": "display_data"
    },
    {
     "data": {
      "text/html": [
       "Syncing run <strong><a href='https://wandb.ai/solab5/TomatoDiseaseClassifier/runs/vw8csyn8' target=\"_blank\">fresh-paper-28</a></strong> to <a href='https://wandb.ai/solab5/TomatoDiseaseClassifier' target=\"_blank\">Weights & Biases</a> (<a href='https://wandb.me/run' target=\"_blank\">docs</a>)<br/>"
      ],
      "text/plain": [
       "<IPython.core.display.HTML object>"
      ]
     },
     "metadata": {},
     "output_type": "display_data"
    },
    {
     "data": {
      "text/html": [
       " View project at <a href='https://wandb.ai/solab5/TomatoDiseaseClassifier' target=\"_blank\">https://wandb.ai/solab5/TomatoDiseaseClassifier</a>"
      ],
      "text/plain": [
       "<IPython.core.display.HTML object>"
      ]
     },
     "metadata": {},
     "output_type": "display_data"
    },
    {
     "data": {
      "text/html": [
       " View run at <a href='https://wandb.ai/solab5/TomatoDiseaseClassifier/runs/vw8csyn8' target=\"_blank\">https://wandb.ai/solab5/TomatoDiseaseClassifier/runs/vw8csyn8</a>"
      ],
      "text/plain": [
       "<IPython.core.display.HTML object>"
      ]
     },
     "metadata": {},
     "output_type": "display_data"
    }
   ],
   "source": [
    "run = wandb.init(project=params.WANDB_PROJECT, job_type=\"training\", config=train_config)"
   ]
  },
  {
   "cell_type": "markdown",
   "id": "c624b2cc-06b4-4362-a75d-c641001f8a2d",
   "metadata": {},
   "source": [
    "As usual, we will use W&B Artifacts to track the lineage of our models."
   ]
  },
  {
   "cell_type": "code",
   "execution_count": 6,
   "id": "f96a6655-9971-4cae-95ce-18a141c5814f",
   "metadata": {},
   "outputs": [
    {
     "name": "stderr",
     "output_type": "stream",
     "text": [
      "\u001b[34m\u001b[1mwandb\u001b[0m: Downloading large artifact data_split:latest, 2266.04MB. 36310 files... \n",
      "\u001b[34m\u001b[1mwandb\u001b[0m:   36310 of 36310 files downloaded.  \n",
      "Done. 0:0:6.2\n"
     ]
    }
   ],
   "source": [
    "processed_data_at = run.use_artifact(f'{params.PROCESSED_DATA_AT}:latest')\n",
    "processed_dataset_dir = Path(processed_data_at.download())"
   ]
  },
  {
   "cell_type": "code",
   "execution_count": 7,
   "id": "08c167e5-935f-4dcc-a228-8f16b0b249e2",
   "metadata": {},
   "outputs": [],
   "source": [
    "df = pd.read_csv(processed_dataset_dir / 'data_split.csv')"
   ]
  },
  {
   "cell_type": "markdown",
   "id": "a0be1f27-4d5d-4180-a4cb-5cdb971c2493",
   "metadata": {},
   "source": [
    "We will not use the hold out dataset stage at this moment. is_valid column will tell our trainer how we want to split data between training and validation."
   ]
  },
  {
   "cell_type": "code",
   "execution_count": 8,
   "id": "2ae5af04-aeb3-4fed-80e2-bcff1dee6a11",
   "metadata": {},
   "outputs": [],
   "source": [
    "df = df[df.Stage != 'test'].reset_index(drop=True)\n",
    "df['is_valid'] = df.Stage == 'valid'"
   ]
  },
  {
   "cell_type": "code",
   "execution_count": 11,
   "id": "095573d2-3435-4c73-a55e-d1c3d6426218",
   "metadata": {},
   "outputs": [],
   "source": [
    "def label_func(fname):\n",
    "    return (fname.parent.name)"
   ]
  },
  {
   "cell_type": "markdown",
   "id": "242a979c-3f97-4522-8dc8-0721a0a401cf",
   "metadata": {},
   "source": [
    "We will use fastai's DataBlock API to feed data into model training and validation."
   ]
  },
  {
   "cell_type": "code",
   "execution_count": 12,
   "id": "e34a0768-4459-4031-8847-635126a302e3",
   "metadata": {},
   "outputs": [
    {
     "data": {
      "text/plain": [
       "18160"
      ]
     },
     "execution_count": 12,
     "metadata": {},
     "output_type": "execute_result"
    }
   ],
   "source": [
    "fnames = get_image_files(processed_dataset_dir)\n",
    "fnames = list(filter(lambda x: \"media\" not in str(x), fnames))\n",
    "len(fnames)"
   ]
  },
  {
   "cell_type": "code",
   "execution_count": 13,
   "id": "7ce4253e-45b7-4314-9b97-409f7d23a73a",
   "metadata": {},
   "outputs": [],
   "source": [
    "df[\"image_fname\"] = [processed_dataset_dir/f'{f}' for f in df.File_Name.values]"
   ]
  },
  {
   "cell_type": "code",
   "execution_count": 14,
   "id": "b0aaca24-6ba2-40e8-a389-966db823cc13",
   "metadata": {},
   "outputs": [],
   "source": [
    "def get_data(df, bs=64, img_size=(224, 224), augment=True):\n",
    "    block = DataBlock(blocks=(ImageBlock, CategoryBlock),\n",
    "                  get_x=ColReader(\"image_fname\"),\n",
    "                  get_y=ColReader(\"Label\"),\n",
    "                  splitter=ColSplitter(),\n",
    "                  item_tfms=Resize(img_size),\n",
    "                  batch_tfms=aug_transforms() if augment else None,\n",
    "                 )\n",
    "    return block.dataloaders(df, bs=bs)"
   ]
  },
  {
   "cell_type": "markdown",
   "id": "ca326d42-e9d5-4408-9987-5086f09948a2",
   "metadata": {},
   "source": [
    "We are using wandb.config to track our training hyperparameters."
   ]
  },
  {
   "cell_type": "code",
   "execution_count": 17,
   "id": "2c1da3c5-19dc-419d-a535-71012f4526e9",
   "metadata": {},
   "outputs": [],
   "source": [
    "config = wandb.config    "
   ]
  },
  {
   "cell_type": "code",
   "execution_count": 18,
   "id": "35163809-ab06-4219-a73c-d2a95f08e64c",
   "metadata": {},
   "outputs": [],
   "source": [
    "dls = get_data(df, bs=config.batch_size, img_size=config.img_size, augment=config.augment)"
   ]
  },
  {
   "cell_type": "code",
   "execution_count": 19,
   "id": "88acc280-e23f-4e9a-b3ea-dd8f49b0ab66",
   "metadata": {},
   "outputs": [
    {
     "name": "stderr",
     "output_type": "stream",
     "text": [
      "/usr/local/lib/python3.9/dist-packages/torchvision/models/_utils.py:208: UserWarning: The parameter 'pretrained' is deprecated since 0.13 and will be removed in 0.15, please use 'weights' instead.\n",
      "  warnings.warn(\n",
      "/usr/local/lib/python3.9/dist-packages/torchvision/models/_utils.py:223: UserWarning: Arguments other than a weight enum or `None` for 'weights' are deprecated since 0.13 and will be removed in 0.15. The current behavior is equivalent to passing `weights=ResNet18_Weights.IMAGENET1K_V1`. You can also use `weights=ResNet18_Weights.DEFAULT` to get the most up-to-date weights.\n",
      "  warnings.warn(msg)\n"
     ]
    }
   ],
   "source": [
    "metrics=[accuracy, error_rate]\n",
    "learn = vision_learner(dls, arch=resnet18, pretrained=config.pretrained, metrics=metrics)"
   ]
  },
  {
   "cell_type": "code",
   "execution_count": 20,
   "id": "451e39f7-fb62-41cc-86ac-c8f8f6db830c",
   "metadata": {},
   "outputs": [],
   "source": [
    "callbacks = [\n",
    "    SaveModelCallback(monitor='valid_loss'),\n",
    "    WandbCallback(log_preds=True, log_model=True)\n",
    "]"
   ]
  },
  {
   "cell_type": "markdown",
   "id": "98eaa5f0-fe29-41fc-a0b2-1c4ba50913c0",
   "metadata": {},
   "source": [
    "Let's train our model!"
   ]
  },
  {
   "cell_type": "code",
   "execution_count": 21,
   "id": "5aa1b5d0-983f-42e5-af99-cc0b8d2d1b4a",
   "metadata": {},
   "outputs": [
    {
     "data": {
      "text/html": [
       "\n",
       "<style>\n",
       "    /* Turns off some styling */\n",
       "    progress {\n",
       "        /* gets rid of default border in Firefox and Opera. */\n",
       "        border: none;\n",
       "        /* Needs to be in here for Safari polyfill so background images work as expected. */\n",
       "        background-size: auto;\n",
       "    }\n",
       "    progress:not([value]), progress:not([value])::-webkit-progress-bar {\n",
       "        background: repeating-linear-gradient(45deg, #7e7e7e, #7e7e7e 10px, #5c5c5c 10px, #5c5c5c 20px);\n",
       "    }\n",
       "    .progress-bar-interrupted, .progress-bar-interrupted::-webkit-progress-bar {\n",
       "        background: #F44336;\n",
       "    }\n",
       "</style>\n"
      ],
      "text/plain": [
       "<IPython.core.display.HTML object>"
      ]
     },
     "metadata": {},
     "output_type": "display_data"
    },
    {
     "data": {
      "text/html": [
       "<table border=\"1\" class=\"dataframe\">\n",
       "  <thead>\n",
       "    <tr style=\"text-align: left;\">\n",
       "      <th>epoch</th>\n",
       "      <th>train_loss</th>\n",
       "      <th>valid_loss</th>\n",
       "      <th>accuracy</th>\n",
       "      <th>error_rate</th>\n",
       "      <th>time</th>\n",
       "    </tr>\n",
       "  </thead>\n",
       "  <tbody>\n",
       "    <tr>\n",
       "      <td>0</td>\n",
       "      <td>0.562043</td>\n",
       "      <td>0.289595</td>\n",
       "      <td>0.898678</td>\n",
       "      <td>0.101322</td>\n",
       "      <td>00:24</td>\n",
       "    </tr>\n",
       "  </tbody>\n",
       "</table>"
      ],
      "text/plain": [
       "<IPython.core.display.HTML object>"
      ]
     },
     "metadata": {},
     "output_type": "display_data"
    },
    {
     "name": "stdout",
     "output_type": "stream",
     "text": [
      "Better model found at epoch 0 with valid_loss value: 0.28959470987319946.\n"
     ]
    },
    {
     "data": {
      "text/html": [
       "\n",
       "<style>\n",
       "    /* Turns off some styling */\n",
       "    progress {\n",
       "        /* gets rid of default border in Firefox and Opera. */\n",
       "        border: none;\n",
       "        /* Needs to be in here for Safari polyfill so background images work as expected. */\n",
       "        background-size: auto;\n",
       "    }\n",
       "    progress:not([value]), progress:not([value])::-webkit-progress-bar {\n",
       "        background: repeating-linear-gradient(45deg, #7e7e7e, #7e7e7e 10px, #5c5c5c 10px, #5c5c5c 20px);\n",
       "    }\n",
       "    .progress-bar-interrupted, .progress-bar-interrupted::-webkit-progress-bar {\n",
       "        background: #F44336;\n",
       "    }\n",
       "</style>\n"
      ],
      "text/plain": [
       "<IPython.core.display.HTML object>"
      ]
     },
     "metadata": {},
     "output_type": "display_data"
    },
    {
     "data": {
      "text/html": [
       "<table border=\"1\" class=\"dataframe\">\n",
       "  <thead>\n",
       "    <tr style=\"text-align: left;\">\n",
       "      <th>epoch</th>\n",
       "      <th>train_loss</th>\n",
       "      <th>valid_loss</th>\n",
       "      <th>accuracy</th>\n",
       "      <th>error_rate</th>\n",
       "      <th>time</th>\n",
       "    </tr>\n",
       "  </thead>\n",
       "  <tbody>\n",
       "    <tr>\n",
       "      <td>0</td>\n",
       "      <td>0.213966</td>\n",
       "      <td>0.095208</td>\n",
       "      <td>0.966410</td>\n",
       "      <td>0.033590</td>\n",
       "      <td>00:26</td>\n",
       "    </tr>\n",
       "    <tr>\n",
       "      <td>1</td>\n",
       "      <td>0.094866</td>\n",
       "      <td>0.087995</td>\n",
       "      <td>0.965859</td>\n",
       "      <td>0.034141</td>\n",
       "      <td>00:26</td>\n",
       "    </tr>\n",
       "    <tr>\n",
       "      <td>2</td>\n",
       "      <td>0.057510</td>\n",
       "      <td>0.026764</td>\n",
       "      <td>0.989537</td>\n",
       "      <td>0.010463</td>\n",
       "      <td>00:26</td>\n",
       "    </tr>\n",
       "    <tr>\n",
       "      <td>3</td>\n",
       "      <td>0.032075</td>\n",
       "      <td>0.035872</td>\n",
       "      <td>0.985132</td>\n",
       "      <td>0.014868</td>\n",
       "      <td>00:26</td>\n",
       "    </tr>\n",
       "    <tr>\n",
       "      <td>4</td>\n",
       "      <td>0.020896</td>\n",
       "      <td>0.020239</td>\n",
       "      <td>0.992841</td>\n",
       "      <td>0.007159</td>\n",
       "      <td>00:26</td>\n",
       "    </tr>\n",
       "  </tbody>\n",
       "</table>"
      ],
      "text/plain": [
       "<IPython.core.display.HTML object>"
      ]
     },
     "metadata": {},
     "output_type": "display_data"
    },
    {
     "name": "stdout",
     "output_type": "stream",
     "text": [
      "Better model found at epoch 0 with valid_loss value: 0.0952075719833374.\n",
      "Better model found at epoch 1 with valid_loss value: 0.08799496293067932.\n",
      "Better model found at epoch 2 with valid_loss value: 0.026764262467622757.\n",
      "Better model found at epoch 4 with valid_loss value: 0.02023932710289955.\n"
     ]
    }
   ],
   "source": [
    "learn.fine_tune(config.epochs, config.lr, cbs=callbacks)"
   ]
  },
  {
   "cell_type": "markdown",
   "id": "e0d95bfd-22a1-4eb2-b429-a3bdf1ecb4d7",
   "metadata": {},
   "source": [
    "We are reloading the model from the best checkpoint at the end and saving it. To make sure we track the final metrics correctly, we will validate the model again and save the final loss and metrics to wandb.summary."
   ]
  },
  {
   "cell_type": "code",
   "execution_count": 22,
   "id": "46eae6db-694e-4579-84e6-2869f31c672b",
   "metadata": {},
   "outputs": [],
   "source": [
    "scores = learn.validate()\n",
    "metric_names = ['final_loss', 'Accuracy', 'Error_rate']\n",
    "final_results = {metric_names[i] : scores[i] for i in range(len(scores))}\n",
    "final_results.items()\n",
    "for k,v in final_results.items(): \n",
    "    wandb.summary[k] = v  "
   ]
  },
  {
   "cell_type": "code",
   "execution_count": 45,
   "id": "6f80d09d-b5fc-40da-9000-c23d7ffc15c3",
   "metadata": {},
   "outputs": [
    {
     "data": {
      "text/html": [
       "wandb version 0.14.0 is available!  To upgrade, please run:\n",
       " $ pip install wandb --upgrade"
      ],
      "text/plain": [
       "<IPython.core.display.HTML object>"
      ]
     },
     "metadata": {},
     "output_type": "display_data"
    },
    {
     "data": {
      "text/html": [
       "Tracking run with wandb version 0.13.10"
      ],
      "text/plain": [
       "<IPython.core.display.HTML object>"
      ]
     },
     "metadata": {},
     "output_type": "display_data"
    },
    {
     "data": {
      "text/html": [
       "Run data is saved locally in <code>/notebooks/tomatodiagnosis/lab/notebooks/wandb/run-20230326_100110-0z5jmlfj</code>"
      ],
      "text/plain": [
       "<IPython.core.display.HTML object>"
      ]
     },
     "metadata": {},
     "output_type": "display_data"
    },
    {
     "data": {
      "text/html": [
       "Syncing run <strong><a href='https://wandb.ai/solab5/TomatoDiseaseClassifier/runs/0z5jmlfj' target=\"_blank\">different-wildflower-31</a></strong> to <a href='https://wandb.ai/solab5/TomatoDiseaseClassifier' target=\"_blank\">Weights & Biases</a> (<a href='https://wandb.me/run' target=\"_blank\">docs</a>)<br/>"
      ],
      "text/plain": [
       "<IPython.core.display.HTML object>"
      ]
     },
     "metadata": {},
     "output_type": "display_data"
    },
    {
     "data": {
      "text/html": [
       " View project at <a href='https://wandb.ai/solab5/TomatoDiseaseClassifier' target=\"_blank\">https://wandb.ai/solab5/TomatoDiseaseClassifier</a>"
      ],
      "text/plain": [
       "<IPython.core.display.HTML object>"
      ]
     },
     "metadata": {},
     "output_type": "display_data"
    },
    {
     "data": {
      "text/html": [
       " View run at <a href='https://wandb.ai/solab5/TomatoDiseaseClassifier/runs/0z5jmlfj' target=\"_blank\">https://wandb.ai/solab5/TomatoDiseaseClassifier/runs/0z5jmlfj</a>"
      ],
      "text/plain": [
       "<IPython.core.display.HTML object>"
      ]
     },
     "metadata": {},
     "output_type": "display_data"
    }
   ],
   "source": [
    "run = wandb.init(project=params.WANDB_PROJECT, job_type=\"metric\")"
   ]
  },
  {
   "cell_type": "code",
   "execution_count": 46,
   "id": "1382135e-1b62-448e-9772-dd7ea2c4e410",
   "metadata": {},
   "outputs": [],
   "source": [
    "table = wandb.Table(columns=[\"Metric\", \"Value\"])\n",
    "for k, v in final_results.items():\n",
    "    table.add_data(k, v)\n",
    "\n",
    "wandb.log({'Results': table})"
   ]
  },
  {
   "cell_type": "code",
   "execution_count": 47,
   "id": "e33e221d-ec00-4c3e-b144-05cb08986d54",
   "metadata": {},
   "outputs": [
    {
     "data": {
      "text/html": [
       "Waiting for W&B process to finish... <strong style=\"color:green\">(success).</strong>"
      ],
      "text/plain": [
       "<IPython.core.display.HTML object>"
      ]
     },
     "metadata": {},
     "output_type": "display_data"
    },
    {
     "data": {
      "text/html": [
       " View run <strong style=\"color:#cdcd00\">different-wildflower-31</strong> at: <a href='https://wandb.ai/solab5/TomatoDiseaseClassifier/runs/0z5jmlfj' target=\"_blank\">https://wandb.ai/solab5/TomatoDiseaseClassifier/runs/0z5jmlfj</a><br/>Synced 4 W&B file(s), 1 media file(s), 1 artifact file(s) and 0 other file(s)"
      ],
      "text/plain": [
       "<IPython.core.display.HTML object>"
      ]
     },
     "metadata": {},
     "output_type": "display_data"
    },
    {
     "data": {
      "text/html": [
       "Find logs at: <code>./wandb/run-20230326_100110-0z5jmlfj/logs</code>"
      ],
      "text/plain": [
       "<IPython.core.display.HTML object>"
      ]
     },
     "metadata": {},
     "output_type": "display_data"
    }
   ],
   "source": [
    "wandb.finish()"
   ]
  },
  {
   "cell_type": "code",
   "execution_count": null,
   "id": "ed17a687-05f4-4175-8c87-4ac360f5b6c0",
   "metadata": {},
   "outputs": [],
   "source": []
  }
 ],
 "metadata": {
  "kernelspec": {
   "display_name": "Python 3 (ipykernel)",
   "language": "python",
   "name": "python3"
  },
  "language_info": {
   "codemirror_mode": {
    "name": "ipython",
    "version": 3
   },
   "file_extension": ".py",
   "mimetype": "text/x-python",
   "name": "python",
   "nbconvert_exporter": "python",
   "pygments_lexer": "ipython3",
   "version": "3.9.13"
  }
 },
 "nbformat": 4,
 "nbformat_minor": 5
}
