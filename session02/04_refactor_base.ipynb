{
 "cells": [
  {
   "cell_type": "code",
   "execution_count": null,
   "id": "8f847b99-a1c1-4c94-bac4-c2330fa92a40",
   "metadata": {},
   "outputs": [],
   "source": [
    "import argparse, os\n",
    "import wandb\n",
    "from pathlib import Path\n",
    "import torchvision.models as tvmodels\n",
    "import pandas as pd\n",
    "from fastai.vision.all import *\n",
    "from fastai.callback.wandb import WandbCallback\n",
    "\n",
    "import params\n",
    "from utils import t_or_f"
   ]
  },
  {
   "cell_type": "code",
   "execution_count": null,
   "id": "0f1349a4-ed13-47e1-a5c2-0215dc6c6d97",
   "metadata": {},
   "outputs": [],
   "source": [
    "default_config = SimpleNamespace(\n",
    "    framework=\"fastai\",\n",
    "    img_size=(224, 224),\n",
    "    batch_size=64,\n",
    "    augment=True, # use data augmentation\n",
    "    epochs=1, \n",
    "    arch=\"resnet18\",\n",
    "    lr=2e-3,\n",
    "    pretrained=True,  # whether to use pretrained encoder\n",
    "    mixed_precision=True,\n",
    "    seed=42,\n",
    "    log_preds=True\n",
    ")"
   ]
  },
  {
   "cell_type": "code",
   "execution_count": null,
   "id": "1e25c2b3-429e-4909-9c3e-39349c04a3f5",
   "metadata": {},
   "outputs": [],
   "source": [
    "def download_data():\n",
    "    processed_data_at = wandb.use_artifact(f'{params.PROCESSED_DATA_AT}:latest')\n",
    "    processed_dataset_dir = Path(processed_data_at.download())\n",
    "    return processed_dataset_dir"
   ]
  },
  {
   "cell_type": "code",
   "execution_count": null,
   "id": "6cc4f673-8775-49da-b6b8-3cbbe25f9486",
   "metadata": {},
   "outputs": [],
   "source": [
    "def get_df(processed_dataset_dir, is_test=False):\n",
    "    df = pd.read_csv(processed_dataset_dir / 'data_split.csv')\n",
    "    if not is_test:\n",
    "        df = df[df.Stage != 'test'].reset_index(drop=True)\n",
    "        df['is_valid'] = df.Stage == 'valid'\n",
    "    else:\n",
    "        df = df[df.Stage == 'test'].reset_index(drop=True)\n",
    "    \n",
    "    ## Assign paths\n",
    "    df[\"image_fname\"] = [processed_dataset_dir/f'{f}' for f in df.File_Name.values]\n",
    "    return df"
   ]
  },
  {
   "cell_type": "code",
   "execution_count": null,
   "id": "27db7576-059e-4036-8729-f14ce604c474",
   "metadata": {},
   "outputs": [],
   "source": [
    "def get_data(df, bs=64, img_size=(224, 224), augment=True):\n",
    "    block = DataBlock(blocks=(ImageBlock, CategoryBlock),\n",
    "                  get_x=ColReader(\"image_fname\"),\n",
    "                  get_y=ColReader(\"Label\"),\n",
    "                  splitter=ColSplitter(),\n",
    "                  item_tfms=Resize(img_size),\n",
    "                  batch_tfms=aug_transforms() if augment else None,\n",
    "                 )\n",
    "    return block.dataloaders(df, bs=bs)"
   ]
  },
  {
   "cell_type": "code",
   "execution_count": null,
   "id": "e4e5b314-4387-4e1b-b1f6-c957eaa91863",
   "metadata": {},
   "outputs": [],
   "source": [
    "def log_metrics(learn):\n",
    "    scores = learn.validate()\n",
    "    metric_names = ['final_loss', 'Accuracy', 'Error_rate']\n",
    "    final_results = {metric_names[i] : scores[i] for i in range(len(scores))}\n",
    "    for k,v in final_results.items(): \n",
    "        wandb.summary[k] = v  "
   ]
  },
  {
   "cell_type": "code",
   "execution_count": null,
   "id": "1d241eef-7ea3-47e7-a5ac-616d0273a556",
   "metadata": {},
   "outputs": [],
   "source": [
    "def train(config):\n",
    "    set_seed(config.seed, reproducible=True)\n",
    "    run = wandb.init(project=params.WANDB_PROJECT, job_type=\"training\", config=config)\n",
    "\n",
    "    config = wandb.config    \n",
    "    \n",
    "    processed_dataset_dir = download_data()\n",
    "    df = get_df(processed_dataset_dir)\n",
    "\n",
    "    dls = get_data(df, bs=config.batch_size, img_size=config.img_size, augment=config.augment)\n",
    "\n",
    "    metrics=[accuracy, error_rate]\n",
    "    learn = vision_learner(dls, arch=getattr(tvmodels, config.arch), pretrained=config.pretrained, metrics=metrics)\n",
    "\n",
    "    cbs = [WandbCallback(log_preds=True, log_model=True), \n",
    "           SaveModelCallback(fname=f'run-{wandb.run.id}-model', monitor='valid_loss')]\n",
    "    cbs += ([MixedPrecision()] if config.mixed_precision else [])\n",
    "\n",
    "    learn.fine_tune(config.epochs, config.lr, cbs=cbs)\n",
    "    \n",
    "    log_metrics(learn)"
   ]
  },
  {
   "cell_type": "code",
   "execution_count": null,
   "id": "bd080ed0-d287-4b24-8aff-c2079a891584",
   "metadata": {},
   "outputs": [],
   "source": [
    "train(default_config)"
   ]
  },
  {
   "cell_type": "code",
   "execution_count": null,
   "id": "0fd03daf-6d70-478a-824d-778189ee365f",
   "metadata": {},
   "outputs": [],
   "source": [
    "wandb.finish()"
   ]
  }
 ],
 "metadata": {
  "kernelspec": {
   "display_name": "Python 3 (ipykernel)",
   "language": "python",
   "name": "python3"
  },
  "language_info": {
   "codemirror_mode": {
    "name": "ipython",
    "version": 3
   },
   "file_extension": ".py",
   "mimetype": "text/x-python",
   "name": "python",
   "nbconvert_exporter": "python",
   "pygments_lexer": "ipython3",
   "version": "3.9.13"
  }
 },
 "nbformat": 4,
 "nbformat_minor": 5
}
